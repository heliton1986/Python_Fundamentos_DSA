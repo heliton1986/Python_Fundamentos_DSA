{
 "cells": [
  {
   "cell_type": "code",
   "execution_count": 23,
   "id": "c3472607",
   "metadata": {},
   "outputs": [
    {
     "name": "stdout",
     "output_type": "stream",
     "text": [
      "\n",
      "******************* Python Calculator *******************\n",
      "\n",
      "Selecione o número da operação: \n",
      "\n",
      "1 - Soma\n",
      "2 - Subtração\n",
      "3 - Multiplicação\n",
      "4 - Divisão\n"
     ]
    },
    {
     "name": "stdin",
     "output_type": "stream",
     "text": [
      "\n",
      "Digite sua operação: (1/2/3/4):  4\n",
      "\n",
      "Digite o primeiro número:  5\n",
      "\n",
      "Digite o segundo número:  0\n"
     ]
    },
    {
     "name": "stdout",
     "output_type": "stream",
     "text": [
      "\n",
      "Operação inválida!\n",
      "O denominador não pode ser igual a 0!\n"
     ]
    }
   ],
   "source": [
    "## Calculadora em Python\n",
    "\n",
    "# Desenvolva uma calculadora em Python com tudo que você aprendeu nos capítulos 2 e 3. \n",
    "# A solução será apresentada no próximo capítulo!\n",
    "# Assista o vídeo com a execução do programa!\n",
    "\n",
    "print(\"\\n******************* Python Calculator *******************\")\n",
    "def soma(x, y):\n",
    "    return x + y\n",
    "\n",
    "def subtract(x, y):\n",
    "    return x - y\n",
    "\n",
    "def multiply(x, y):\n",
    "    return x * y\n",
    "\n",
    "def divide(x, y):\n",
    "    return x / y\n",
    "\n",
    "print(\"\\nSelecione o número da operação: \\n\")\n",
    "print(\"1 - Soma\")\n",
    "print(\"2 - Subtração\")\n",
    "print(\"3 - Multiplicação\")\n",
    "print(\"4 - Divisão\")\n",
    "\n",
    "operacao = float(input(\"\\nDigite sua operação: (1/2/3/4): \"))\n",
    "\n",
    "if operacao == 1 or operacao == 2 or operacao == 3 or operacao == 4:\n",
    "    \n",
    "    num1 = float(input(\"\\nDigite o primeiro número: \"))\n",
    "    num2 = float(input(\"\\nDigite o segundo número: \"))\n",
    "\n",
    "    if operacao == 1:\n",
    "        print(\"\\n\")\n",
    "        print(f\"{num1} + {num2} = {soma(num1, num2)}\")\n",
    "        print(\"\\n\")\n",
    "\n",
    "    elif operacao == 2:\n",
    "        print(\"\\n\")\n",
    "        print(f\"{num1} - {num2} = {subtract(num1, num2)}\")\n",
    "        print(\"\\n\")\n",
    "\n",
    "    elif operacao == 3:\n",
    "        print(\"\\n\")\n",
    "        print(f\"{num1} * {num2} = {multiply(num1, num2)}\")\n",
    "        print(\"\\n\")\n",
    "\n",
    "    elif operacao == 4:\n",
    "        \n",
    "        try:\n",
    "            print(f\"{num1} / {num2} = {divide(num1, num2)}\")\n",
    "        except ZeroDivisionError:\n",
    "            print(\"\\nOperação inválida!\")\n",
    "            print(\"O denominador não pode ser igual a 0!\")\n",
    "            \n",
    "else:\n",
    "    print(\"\\nOperação Inválida!\")"
   ]
  },
  {
   "cell_type": "code",
   "execution_count": null,
   "id": "3ffdb9ca",
   "metadata": {},
   "outputs": [],
   "source": []
  }
 ],
 "metadata": {
  "kernelspec": {
   "display_name": "Python 3",
   "language": "python",
   "name": "python3"
  },
  "language_info": {
   "codemirror_mode": {
    "name": "ipython",
    "version": 3
   },
   "file_extension": ".py",
   "mimetype": "text/x-python",
   "name": "python",
   "nbconvert_exporter": "python",
   "pygments_lexer": "ipython3",
   "version": "3.9.2"
  }
 },
 "nbformat": 4,
 "nbformat_minor": 5
}
