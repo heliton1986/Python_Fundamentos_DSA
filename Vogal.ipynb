{
 "cells": [
  {
   "cell_type": "code",
   "execution_count": 15,
   "id": "9d3c80ff",
   "metadata": {},
   "outputs": [],
   "source": [
    "def vogal(v):\n",
    "    if v == \"a\" or v == \"e\" or v == \"i\" or v == \"o\" or v == \"u\":\n",
    "        print(\"É vogal\")\n",
    "    else:\n",
    "        print(\"Não é vogal\")"
   ]
  },
  {
   "cell_type": "code",
   "execution_count": 16,
   "id": "65226571",
   "metadata": {},
   "outputs": [
    {
     "name": "stdout",
     "output_type": "stream",
     "text": [
      "Não é vogal\n"
     ]
    }
   ],
   "source": [
    "vogal(\"b\")"
   ]
  },
  {
   "cell_type": "code",
   "execution_count": 21,
   "id": "89f769f9",
   "metadata": {},
   "outputs": [
    {
     "name": "stdin",
     "output_type": "stream",
     "text": [
      "Digite uma letra:  c\n"
     ]
    },
    {
     "name": "stdout",
     "output_type": "stream",
     "text": [
      "Não é vogal\n"
     ]
    }
   ],
   "source": [
    "v = input(\"Digite uma letra: \")\n",
    "if v == \"a\" or v == \"e\" or v == \"i\" or v == \"o\" or v == \"u\":\n",
    "    print(\"É vogal\")\n",
    "else:\n",
    "    print(\"Não é vogal\")"
   ]
  },
  {
   "cell_type": "code",
   "execution_count": null,
   "id": "b26cb908",
   "metadata": {},
   "outputs": [],
   "source": []
  }
 ],
 "metadata": {
  "kernelspec": {
   "display_name": "Python 3",
   "language": "python",
   "name": "python3"
  },
  "language_info": {
   "codemirror_mode": {
    "name": "ipython",
    "version": 3
   },
   "file_extension": ".py",
   "mimetype": "text/x-python",
   "name": "python",
   "nbconvert_exporter": "python",
   "pygments_lexer": "ipython3",
   "version": "3.9.2"
  }
 },
 "nbformat": 4,
 "nbformat_minor": 5
}
