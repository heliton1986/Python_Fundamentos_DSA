{
 "cells": [
  {
   "cell_type": "code",
   "execution_count": 15,
   "id": "2d85e5b8",
   "metadata": {},
   "outputs": [],
   "source": [
    "def vogal(v):\n",
    "    if v == \"a\" or v == \"e\" or v == \"i\" or v == \"o\" or v == \"u\":\n",
    "        print(\"É vogal\")\n",
    "    else:\n",
    "        print(\"Não é vogal\")"
   ]
  },
  {
   "cell_type": "code",
   "execution_count": 16,
   "id": "3ebcd6ae",
   "metadata": {},
   "outputs": [
    {
     "name": "stdout",
     "output_type": "stream",
     "text": [
      "Não é vogal\n"
     ]
    }
   ],
   "source": [
    "vogal(\"b\")"
   ]
  },
  {
   "cell_type": "code",
   "execution_count": null,
   "id": "bfb2b6d5",
   "metadata": {},
   "outputs": [],
   "source": []
  }
 ],
 "metadata": {
  "kernelspec": {
   "display_name": "Python 3",
   "language": "python",
   "name": "python3"
  },
  "language_info": {
   "codemirror_mode": {
    "name": "ipython",
    "version": 3
   },
   "file_extension": ".py",
   "mimetype": "text/x-python",
   "name": "python",
   "nbconvert_exporter": "python",
   "pygments_lexer": "ipython3",
   "version": "3.9.2"
  }
 },
 "nbformat": 4,
 "nbformat_minor": 5
}
