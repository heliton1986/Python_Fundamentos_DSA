{
 "cells": [
  {
   "cell_type": "code",
   "execution_count": 6,
   "id": "eb1fd165",
   "metadata": {},
   "outputs": [
    {
     "name": "stdout",
     "output_type": "stream",
     "text": [
      "\n",
      "******************* Python Calculator *******************\n",
      "\n",
      "Selecione o número da operação: \n",
      "\n",
      "1 - Soma\n",
      "2 - Subtração\n",
      "3 - Multiplicação\n",
      "4 - Divisão\n"
     ]
    },
    {
     "name": "stdin",
     "output_type": "stream",
     "text": [
      "\n",
      "Digite sua operação: (1/2/3/4):  10\n",
      "\n",
      "Digite o primeiro número:  6\n",
      "\n",
      "Digite o segundo número:  9\n"
     ]
    },
    {
     "name": "stdout",
     "output_type": "stream",
     "text": [
      "\n",
      "Operação Inválida!\n"
     ]
    }
   ],
   "source": [
    "print(\"\\n******************* Python Calculator *******************\")\n",
    "def soma(x, y):\n",
    "    return x + y\n",
    "\n",
    "def subtract(x, y):\n",
    "    return x - y\n",
    "\n",
    "def multiply(x, y):\n",
    "    return x * y\n",
    "\n",
    "def divide(x, y):\n",
    "    return x / y\n",
    "\n",
    "print(\"\\nSelecione o número da operação: \\n\")\n",
    "print(\"1 - Soma\")\n",
    "print(\"2 - Subtração\")\n",
    "print(\"3 - Multiplicação\")\n",
    "print(\"4 - Divisão\")\n",
    "\n",
    "operacao = input(\"\\nDigite sua operação: (1/2/3/4): \")\n",
    "\n",
    "num1 = float(input(\"\\nDigite o primeiro número: \"))\n",
    "num2 = float(input(\"\\nDigite o segundo número: \"))\n",
    "\n",
    "if operacao == \"1\":\n",
    "    print(\"\\n\")\n",
    "    print(f\"{num1} + {num2} = {soma(num1, num2)}\")\n",
    "    print(\"\\n\")\n",
    "    \n",
    "elif operacao == \"2\":\n",
    "    print(\"\\n\")\n",
    "    print(f\"{num1} - {num2} = {subtract(num1, num2)}\")\n",
    "    print(\"\\n\")\n",
    "    \n",
    "elif operacao == \"3\":\n",
    "    print(\"\\n\")\n",
    "    print(f\"{num1} * {num2} = {multiply(num1, num2)}\")\n",
    "    print(\"\\n\")\n",
    "    \n",
    "elif operacao == \"4\":\n",
    "    print(\"\\n\")\n",
    "    print(f\"{num1} / {num2} = {divide(num1, num2)}\")\n",
    "    print(\"\\n\")\n",
    "    \n",
    "else:\n",
    "    print(\"\\nOperação Inválida!\")"
   ]
  },
  {
   "cell_type": "code",
   "execution_count": null,
   "id": "d5d7d171",
   "metadata": {},
   "outputs": [],
   "source": []
  }
 ],
 "metadata": {
  "kernelspec": {
   "display_name": "Python 3",
   "language": "python",
   "name": "python3"
  },
  "language_info": {
   "codemirror_mode": {
    "name": "ipython",
    "version": 3
   },
   "file_extension": ".py",
   "mimetype": "text/x-python",
   "name": "python",
   "nbconvert_exporter": "python",
   "pygments_lexer": "ipython3",
   "version": "3.9.2"
  }
 },
 "nbformat": 4,
 "nbformat_minor": 5
}
